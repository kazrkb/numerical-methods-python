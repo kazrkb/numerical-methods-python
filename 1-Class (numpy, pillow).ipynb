{
 "cells": [
  {
   "cell_type": "code",
   "execution_count": 1,
   "id": "dbebe61c",
   "metadata": {},
   "outputs": [],
   "source": [
    "import numpy as np\n",
    "from PIL import Image"
   ]
  },
  {
   "cell_type": "markdown",
   "id": "6db9aa81",
   "metadata": {},
   "source": [
    "### Numpy Array"
   ]
  },
  {
   "cell_type": "code",
   "execution_count": 9,
   "id": "a5bcb777",
   "metadata": {},
   "outputs": [
    {
     "name": "stdout",
     "output_type": "stream",
     "text": [
      "2\n",
      "[2 5 4]\n",
      "6\n",
      "[[ 2  3  4]\n",
      " [ 5 10  7]]\n",
      "6.12\n"
     ]
    }
   ],
   "source": [
    "a = np.array([2, 3, 4])   # Create array(1D) from python list\n",
    "print(a[0])               # Access elements using square brackets\n",
    "\n",
    "a[1] = 5\n",
    "print(a)\n",
    "\n",
    "b = np.array([\n",
    "    [2,3,4],\n",
    "    [5,6,7]\n",
    "])\n",
    "print(b[1,1])\n",
    "\n",
    "b[1,1] = 10\n",
    "print(b)\n",
    "\n",
    "c = np.array([\n",
    "    [1.5, 3.21, 5.79],\n",
    "    [6.12, 7.93, 10.5]\n",
    "])\n",
    "print(c[1,0])\n"
   ]
  },
  {
   "cell_type": "code",
   "execution_count": null,
   "id": "f877be17",
   "metadata": {},
   "outputs": [],
   "source": []
  }
 ],
 "metadata": {
  "kernelspec": {
   "display_name": "Python 3",
   "language": "python",
   "name": "python3"
  },
  "language_info": {
   "codemirror_mode": {
    "name": "ipython",
    "version": 3
   },
   "file_extension": ".py",
   "mimetype": "text/x-python",
   "name": "python",
   "nbconvert_exporter": "python",
   "pygments_lexer": "ipython3",
   "version": "3.11.9"
  }
 },
 "nbformat": 4,
 "nbformat_minor": 5
}
