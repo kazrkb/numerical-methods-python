{
 "cells": [
  {
   "cell_type": "code",
   "execution_count": 1,
   "id": "dbebe61c",
   "metadata": {},
   "outputs": [],
   "source": [
    "import numpy as np\n",
    "from PIL import Image"
   ]
  },
  {
   "cell_type": "markdown",
   "id": "6db9aa81",
   "metadata": {},
   "source": [
    "### Numpy Array"
   ]
  },
  {
   "cell_type": "code",
   "execution_count": 2,
   "id": "a5bcb777",
   "metadata": {},
   "outputs": [
    {
     "name": "stdout",
     "output_type": "stream",
     "text": [
      "2\n",
      "[2 5 4]\n",
      "6\n",
      "[[ 2  3  4]\n",
      " [ 5 10  7]]\n",
      "6.12\n"
     ]
    }
   ],
   "source": [
    "a = np.array([2, 3, 4])   # Create array(1D) from python list\n",
    "print(a[0])               # Access elements using square brackets\n",
    "\n",
    "a[1] = 5\n",
    "print(a)\n",
    "\n",
    "b = np.array([\n",
    "    [2,3,4],\n",
    "    [5,6,7]\n",
    "])\n",
    "print(b[1,1])\n",
    "\n",
    "b[1,1] = 10\n",
    "print(b)\n",
    "\n",
    "c = np.array([\n",
    "    [1.5, 3.21, 5.79],\n",
    "    [6.12, 7.93, 10.5]\n",
    "])\n",
    "print(c[1,0])\n"
   ]
  },
  {
   "cell_type": "code",
   "execution_count": 3,
   "id": "f877be17",
   "metadata": {},
   "outputs": [
    {
     "name": "stdout",
     "output_type": "stream",
     "text": [
      "1\n",
      "2\n",
      "(3,)\n",
      "(2, 3)\n",
      "3\n",
      "6\n",
      "int32\n",
      "float64\n"
     ]
    }
   ],
   "source": [
    "print(a.ndim)             # Prints \"1\"\n",
    "print(b.ndim)             # Prints \"2\"\n",
    "\n",
    "print(a.shape)            # Prints \"(3,)\"\n",
    "print(b.shape)            # Prints \"(2, 3)\"\n",
    "\n",
    "print(a.size)             # Prints \"3\"\n",
    "print(b.size)             # Prints \"6\"\n",
    "\n",
    "print(a.dtype)            # Prints \"int32\"\n",
    "print(c.dtype)            # Prints \"float64\""
   ]
  },
  {
   "cell_type": "code",
   "execution_count": 4,
   "id": "1ad8fb3f",
   "metadata": {},
   "outputs": [
    {
     "name": "stdout",
     "output_type": "stream",
     "text": [
      "[[0. 0. 0.]\n",
      " [0. 0. 0.]\n",
      " [0. 0. 0.]]\n",
      "[[1. 1.]\n",
      " [1. 1.]\n",
      " [1. 1.]]\n",
      "[[8 8 8]\n",
      " [8 8 8]\n",
      " [8 8 8]]\n",
      "[[1. 0. 0.]\n",
      " [0. 1. 0.]\n",
      " [0. 0. 1.]]\n",
      "[[0.88627785 0.1090872  0.2131004 ]\n",
      " [0.62569428 0.50202742 0.79366988]\n",
      " [0.6534485  0.28153417 0.58423451]]\n",
      "[0 1 2 3 4]\n",
      "[ 6.    7.25  8.5   9.75 11.  ]\n"
     ]
    }
   ],
   "source": [
    "a = np.zeros((3,3))\n",
    "print(a)\n",
    "\n",
    "b = np.ones((3,2))\n",
    "print(b)\n",
    "\n",
    "c = np.full((3,3),8)\n",
    "print(c)\n",
    "\n",
    "d = np.eye(3)\n",
    "print(d)\n",
    "\n",
    "e = np.random.random((3,3))\n",
    "print(e)\n",
    "\n",
    "f = np.arange(5)\n",
    "print(f)\n",
    "\n",
    "g = np.linspace(6,11,5)\n",
    "print(g)"
   ]
  },
  {
   "cell_type": "code",
   "execution_count": 5,
   "id": "a6081ff3",
   "metadata": {},
   "outputs": [
    {
     "name": "stdout",
     "output_type": "stream",
     "text": [
      "[  0   1   8  27  64 125 216 343 512 729]\n",
      "8\n",
      "[ 8 27 64]\n",
      "[  0   1   8  27  64 125]\n",
      "[  8  27  64 125 216 343 512 729]\n",
      "[729 512 343 216 125  64  27   8   1   0]\n",
      "[1000    1 1000   27 1000  125  216  343  512  729]\n",
      "9.999999999999998\n",
      "1.0\n",
      "9.999999999999998\n",
      "3.0\n",
      "9.999999999999998\n",
      "4.999999999999999\n",
      "5.999999999999999\n",
      "6.999999999999999\n",
      "7.999999999999999\n",
      "8.999999999999998\n"
     ]
    }
   ],
   "source": [
    "a = np.arange(10)**3     # In python \"**\" means power x**3 = x^3\n",
    "print(a)                 # Prints \"[0 1 8 27 64 125 216 343 512 729]\"\n",
    "\n",
    "print(a[2])              # Prints \"8\"\n",
    "print(a[2:5])            # Prints \"[8 27 64]\"\n",
    "print(a[:6])             # Prints \"[0 1 8 27 64 125]\"\n",
    "print(a[2:])             # Prints \"[8 27 64 125 216 343 512 729]\"\n",
    "print(a[::-1])           # Prints reversed array\n",
    "\n",
    "a[:6:2] = 1000           # From start to position 6 (exclusive) set every 2nd element to 1000\n",
    "print(a)                 # Prints \"[1000 1 1000 27 1000 125 216 343 512 729]\"\n",
    "\n",
    "# Iterating over array\n",
    "for element in a:\n",
    "  print(element**(1/3.))"
   ]
  },
  {
   "cell_type": "code",
   "execution_count": 6,
   "id": "a2802a4f",
   "metadata": {},
   "outputs": [
    {
     "name": "stdout",
     "output_type": "stream",
     "text": [
      "23\n",
      "[ 1 11 21 31 41]\n",
      "[[ 1  2]\n",
      " [11 12]\n",
      " [21 22]\n",
      " [31 32]\n",
      " [41 42]]\n",
      "[ 2 12]\n",
      "[31 41]\n",
      "[12 22 32]\n",
      "\n",
      "[30 31 32 33]\n",
      "[[10 11 12 13]\n",
      " [20 21 22 23]]\n",
      "[20 21]\n",
      "[12 13]\n",
      "[21 22 23]\n",
      "0 1 2 3 \n",
      "10 11 12 13 \n",
      "20 21 22 23 \n",
      "30 31 32 33 \n",
      "40 41 42 43 \n"
     ]
    }
   ],
   "source": [
    "b = np.array([[ 0,  1,  2,  3],\n",
    "              [10, 11, 12, 13],\n",
    "              [20, 21, 22, 23],\n",
    "              [30, 31, 32, 33],\n",
    "              [40, 41, 42, 43]])\n",
    "\n",
    "print(b[2, 3])           # Prints \"23\"\n",
    "\n",
    "print(b[:, 1])           # Print second column of b\n",
    "print(b[:, 1:3])         # Print second and third column of b\n",
    "print(b[:2, 2])          # Print first 2 rows in the third column of b\n",
    "print(b[-2:, 1])         # Print last 2 rows in the second column of b\n",
    "print(b[1:4, 2])         # Print rows 2-4 in the third column of b\n",
    "\n",
    "print()\n",
    "\n",
    "print(b[3, :])           # Print fourth row of b\n",
    "print(b[1:3, :])         # Print second and third row of b\n",
    "print(b[2, :2])          # Print first 2 columns in the third row of b\n",
    "print(b[1, -2:])         # Print last 2 columns in the second row of b\n",
    "print(b[2, 1:4])         # Print columns 2-4 in the third row of b\n",
    "\n",
    "# Iterating over 2D array\n",
    "for row in b:\n",
    "  for col in row:\n",
    "    print(col, end=' ')\n",
    "  print()"
   ]
  },
  {
   "cell_type": "code",
   "execution_count": 8,
   "id": "b7f069ae",
   "metadata": {},
   "outputs": [
    {
     "name": "stdout",
     "output_type": "stream",
     "text": [
      "[1 4 5]\n",
      "[1 4 5]\n",
      "[2 2]\n",
      "[2 2]\n"
     ]
    }
   ],
   "source": [
    "a = np.array([\n",
    "    [1,2], \n",
    "    [3, 4], \n",
    "    [5, 6]\n",
    "])\n",
    "# [0,1,2] is row index [0,1,0] is column index\n",
    "print(a[[0, 1, 2], [0, 1, 0]])  # Prints \"[1 4 5]\"\n",
    "\n",
    "# The above example of integer array indexing is equivalent to this:\n",
    "print(np.array([a[0, 0], a[1, 1], a[2, 0]]))  # Prints \"[1 4 5]\"\n",
    "\n",
    "# When using integer array indexing, you can reuse the same\n",
    "# element from the source array:\n",
    "print(a[[0, 0], [1, 1]])  # Prints \"[2 2]\"\n",
    "\n",
    "# Equivalent to the previous integer array indexing example\n",
    "print(np.array([a[0, 1], a[0, 1]]))  # Prints \"[2 2]\""
   ]
  },
  {
   "cell_type": "code",
   "execution_count": null,
   "id": "a94c96f5",
   "metadata": {},
   "outputs": [
    {
     "name": "stdout",
     "output_type": "stream",
     "text": [
      "[0 2 0 1]\n",
      "[ 1  6  7 11]\n",
      "[[11  2  3]\n",
      " [ 4  5 16]\n",
      " [17  8  9]\n",
      " [10 21 12]]\n"
     ]
    }
   ],
   "source": [
    "a = np.array([\n",
    "    [1,2,3], \n",
    "    [4,5,6], \n",
    "    [7,8,9], \n",
    "    [10, 11, 12]\n",
    "])\n",
    "\n",
    "# Create an array of indices of the column\n",
    "b = np.array([0, 2, 0, 1])\n",
    "# np.arrange(4) array of indexes of rows\n",
    "# Select one element from each row of a using the indices in b\n",
    "print(a[np.arange(4), b])  # Prints \"[1  6  7 11]\"\n",
    "\n",
    "# Mutate one element from each row of a using the indices in b\n",
    "a[np.arange(4), b] += 10\n",
    "\n",
    "print(a)  # prints \"array([[11,  2,  3],\n",
    "          #                [ 4,  5, 16],\n",
    "          #                [17,  8,  9],\n",
    "          #                [10, 21, 12]])"
   ]
  },
  {
   "cell_type": "code",
   "execution_count": null,
   "id": "f5ac1062",
   "metadata": {},
   "outputs": [],
   "source": [
    "a = np.array([\n",
    "    [1,2], \n",
    "    [3, 4], \n",
    "    [5, 6]\n",
    "])\n",
    "\n",
    "bool_idx = (a > 2)   # Find the elements of a that are bigger than 2;\n",
    "                     # this returns a numpy array of Booleans of the same\n",
    "                     # shape as a, where each slot of bool_idx tells\n",
    "                     # whether that element of a is > 2.\n",
    "\n",
    "print(bool_idx)      # Prints \"[[False False]\n",
    "                     #          [ True  True]\n",
    "                     #          [ True  True]]\"\n",
    "\n",
    "# We use boolean array indexing to construct a rank 1 array\n",
    "# consisting of the elements of a corresponding to the True values\n",
    "# of bool_idx\n",
    "print(a[bool_idx])   # Prints \"[3 4 5 6]\"\n",
    "\n",
    "# We can do all of the above in a single concise statement:\n",
    "print(a[a > 2])      # Prints \"[3 4 5 6]\""
   ]
  }
 ],
 "metadata": {
  "kernelspec": {
   "display_name": "Python 3",
   "language": "python",
   "name": "python3"
  },
  "language_info": {
   "codemirror_mode": {
    "name": "ipython",
    "version": 3
   },
   "file_extension": ".py",
   "mimetype": "text/x-python",
   "name": "python",
   "nbconvert_exporter": "python",
   "pygments_lexer": "ipython3",
   "version": "3.11.9"
  }
 },
 "nbformat": 4,
 "nbformat_minor": 5
}
