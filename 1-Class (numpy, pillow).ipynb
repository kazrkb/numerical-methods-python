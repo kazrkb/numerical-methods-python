{
 "cells": [
  {
   "cell_type": "code",
   "execution_count": 33,
   "id": "dbebe61c",
   "metadata": {},
   "outputs": [],
   "source": [
    "import numpy as np\n",
    "from PIL import Image"
   ]
  },
  {
   "cell_type": "markdown",
   "id": "6db9aa81",
   "metadata": {},
   "source": [
    "### Numpy Array"
   ]
  },
  {
   "cell_type": "code",
   "execution_count": 34,
   "id": "a5bcb777",
   "metadata": {},
   "outputs": [
    {
     "name": "stdout",
     "output_type": "stream",
     "text": [
      "2\n",
      "[2 5 4]\n",
      "6\n",
      "[[ 2  3  4]\n",
      " [ 5 10  7]]\n",
      "6.12\n"
     ]
    }
   ],
   "source": [
    "a = np.array([2, 3, 4])   # Create array(1D) from python list\n",
    "print(a[0])               # Access elements using square brackets\n",
    "\n",
    "a[1] = 5\n",
    "print(a)\n",
    "\n",
    "b = np.array([\n",
    "    [2,3,4],\n",
    "    [5,6,7]\n",
    "])\n",
    "print(b[1,1])\n",
    "\n",
    "b[1,1] = 10\n",
    "print(b)\n",
    "\n",
    "c = np.array([\n",
    "    [1.5, 3.21, 5.79],\n",
    "    [6.12, 7.93, 10.5]\n",
    "])\n",
    "print(c[1,0])\n"
   ]
  },
  {
   "cell_type": "code",
   "execution_count": 35,
   "id": "f877be17",
   "metadata": {},
   "outputs": [
    {
     "name": "stdout",
     "output_type": "stream",
     "text": [
      "1\n",
      "2\n",
      "(3,)\n",
      "(2, 3)\n",
      "3\n",
      "6\n",
      "int32\n",
      "float64\n"
     ]
    }
   ],
   "source": [
    "print(a.ndim)             # Prints \"1\"\n",
    "print(b.ndim)             # Prints \"2\"\n",
    "\n",
    "print(a.shape)            # Prints \"(3,)\"\n",
    "print(b.shape)            # Prints \"(2, 3)\"\n",
    "\n",
    "print(a.size)             # Prints \"3\"\n",
    "print(b.size)             # Prints \"6\"\n",
    "\n",
    "print(a.dtype)            # Prints \"int32\"\n",
    "print(c.dtype)            # Prints \"float64\""
   ]
  },
  {
   "cell_type": "code",
   "execution_count": 36,
   "id": "1ad8fb3f",
   "metadata": {},
   "outputs": [
    {
     "name": "stdout",
     "output_type": "stream",
     "text": [
      "[[0. 0. 0.]\n",
      " [0. 0. 0.]\n",
      " [0. 0. 0.]]\n",
      "[[1. 1.]\n",
      " [1. 1.]\n",
      " [1. 1.]]\n",
      "[[8 8 8]\n",
      " [8 8 8]\n",
      " [8 8 8]]\n",
      "[[1. 0. 0.]\n",
      " [0. 1. 0.]\n",
      " [0. 0. 1.]]\n",
      "[[0.36070755 0.47945532 0.25888595]\n",
      " [0.77416108 0.55424842 0.66900245]\n",
      " [0.41353091 0.87023191 0.6161025 ]]\n",
      "[0 1 2 3 4]\n",
      "[ 6.    7.25  8.5   9.75 11.  ]\n"
     ]
    }
   ],
   "source": [
    "a = np.zeros((3,3))\n",
    "print(a)\n",
    "\n",
    "b = np.ones((3,2))\n",
    "print(b)\n",
    "\n",
    "c = np.full((3,3),8)\n",
    "print(c)\n",
    "\n",
    "d = np.eye(3)\n",
    "print(d)\n",
    "\n",
    "e = np.random.random((3,3))\n",
    "print(e)\n",
    "\n",
    "f = np.arange(5)\n",
    "print(f)\n",
    "\n",
    "g = np.linspace(6,11,5)\n",
    "print(g)"
   ]
  },
  {
   "cell_type": "code",
   "execution_count": 37,
   "id": "a6081ff3",
   "metadata": {},
   "outputs": [
    {
     "name": "stdout",
     "output_type": "stream",
     "text": [
      "[  0   1   8  27  64 125 216 343 512 729]\n",
      "8\n",
      "[ 8 27 64]\n",
      "[  0   1   8  27  64 125]\n",
      "[  8  27  64 125 216 343 512 729]\n",
      "[729 512 343 216 125  64  27   8   1   0]\n",
      "[1000    1 1000   27 1000  125  216  343  512  729]\n",
      "9.999999999999998\n",
      "1.0\n",
      "9.999999999999998\n",
      "3.0\n",
      "9.999999999999998\n",
      "4.999999999999999\n",
      "5.999999999999999\n",
      "6.999999999999999\n",
      "7.999999999999999\n",
      "8.999999999999998\n"
     ]
    }
   ],
   "source": [
    "a = np.arange(10)**3     # In python \"**\" means power x**3 = x^3\n",
    "print(a)                 # Prints \"[0 1 8 27 64 125 216 343 512 729]\"\n",
    "\n",
    "print(a[2])              # Prints \"8\"\n",
    "print(a[2:5])            # Prints \"[8 27 64]\"\n",
    "print(a[:6])             # Prints \"[0 1 8 27 64 125]\"\n",
    "print(a[2:])             # Prints \"[8 27 64 125 216 343 512 729]\"\n",
    "print(a[::-1])           # Prints reversed array\n",
    "\n",
    "a[:6:2] = 1000           # From start to position 6 (exclusive) set every 2nd element to 1000\n",
    "print(a)                 # Prints \"[1000 1 1000 27 1000 125 216 343 512 729]\"\n",
    "\n",
    "# Iterating over array\n",
    "for element in a:\n",
    "  print(element**(1/3.))"
   ]
  },
  {
   "cell_type": "code",
   "execution_count": 38,
   "id": "a2802a4f",
   "metadata": {},
   "outputs": [
    {
     "name": "stdout",
     "output_type": "stream",
     "text": [
      "23\n",
      "[ 1 11 21 31 41]\n",
      "[[ 1  2]\n",
      " [11 12]\n",
      " [21 22]\n",
      " [31 32]\n",
      " [41 42]]\n",
      "[ 2 12]\n",
      "[31 41]\n",
      "[12 22 32]\n",
      "\n",
      "[30 31 32 33]\n",
      "[[10 11 12 13]\n",
      " [20 21 22 23]]\n",
      "[20 21]\n",
      "[12 13]\n",
      "[21 22 23]\n",
      "0 1 2 3 \n",
      "10 11 12 13 \n",
      "20 21 22 23 \n",
      "30 31 32 33 \n",
      "40 41 42 43 \n"
     ]
    }
   ],
   "source": [
    "b = np.array([[ 0,  1,  2,  3],\n",
    "              [10, 11, 12, 13],\n",
    "              [20, 21, 22, 23],\n",
    "              [30, 31, 32, 33],\n",
    "              [40, 41, 42, 43]])\n",
    "\n",
    "print(b[2, 3])           # Prints \"23\"\n",
    "\n",
    "print(b[:, 1])           # Print second column of b\n",
    "print(b[:, 1:3])         # Print second and third column of b\n",
    "print(b[:2, 2])          # Print first 2 rows in the third column of b\n",
    "print(b[-2:, 1])         # Print last 2 rows in the second column of b\n",
    "print(b[1:4, 2])         # Print rows 2-4 in the third column of b\n",
    "\n",
    "print()\n",
    "\n",
    "print(b[3, :])           # Print fourth row of b\n",
    "print(b[1:3, :])         # Print second and third row of b\n",
    "print(b[2, :2])          # Print first 2 columns in the third row of b\n",
    "print(b[1, -2:])         # Print last 2 columns in the second row of b\n",
    "print(b[2, 1:4])         # Print columns 2-4 in the third row of b\n",
    "\n",
    "# Iterating over 2D array\n",
    "for row in b:\n",
    "  for col in row:\n",
    "    print(col, end=' ')\n",
    "  print()"
   ]
  },
  {
   "cell_type": "code",
   "execution_count": 39,
   "id": "b7f069ae",
   "metadata": {},
   "outputs": [
    {
     "name": "stdout",
     "output_type": "stream",
     "text": [
      "[1 4 5]\n",
      "[1 4 5]\n",
      "[2 2]\n",
      "[2 2]\n"
     ]
    }
   ],
   "source": [
    "a = np.array([\n",
    "    [1,2], \n",
    "    [3, 4], \n",
    "    [5, 6]\n",
    "])\n",
    "# [0,1,2] is row index [0,1,0] is column index\n",
    "print(a[[0, 1, 2], [0, 1, 0]])  # Prints \"[1 4 5]\"\n",
    "\n",
    "# The above example of integer array indexing is equivalent to this:\n",
    "print(np.array([a[0, 0], a[1, 1], a[2, 0]]))  # Prints \"[1 4 5]\"\n",
    "\n",
    "# When using integer array indexing, you can reuse the same\n",
    "# element from the source array:\n",
    "print(a[[0, 0], [1, 1]])  # Prints \"[2 2]\"\n",
    "\n",
    "# Equivalent to the previous integer array indexing example\n",
    "print(np.array([a[0, 1], a[0, 1]]))  # Prints \"[2 2]\""
   ]
  },
  {
   "cell_type": "code",
   "execution_count": 40,
   "id": "a94c96f5",
   "metadata": {},
   "outputs": [
    {
     "name": "stdout",
     "output_type": "stream",
     "text": [
      "[ 1  6  7 11]\n",
      "[[11  2  3]\n",
      " [ 4  5 16]\n",
      " [17  8  9]\n",
      " [10 21 12]]\n"
     ]
    }
   ],
   "source": [
    "a = np.array([\n",
    "    [1,2,3], \n",
    "    [4,5,6], \n",
    "    [7,8,9], \n",
    "    [10, 11, 12]\n",
    "])\n",
    "\n",
    "# Create an array of indices of the column\n",
    "b = np.array([0, 2, 0, 1])\n",
    "# np.arrange(4) array of indexes of rows\n",
    "# Select one element from each row of a using the indices in b\n",
    "print(a[np.arange(4), b])  # Prints \"[1  6  7 11]\"\n",
    "\n",
    "# Mutate one element from each row of a using the indices in b\n",
    "a[np.arange(4), b] += 10\n",
    "\n",
    "print(a)  # prints \"array([[11,  2,  3],\n",
    "          #                [ 4,  5, 16],\n",
    "          #                [17,  8,  9],\n",
    "          #                [10, 21, 12]])"
   ]
  },
  {
   "cell_type": "code",
   "execution_count": 41,
   "id": "f5ac1062",
   "metadata": {},
   "outputs": [
    {
     "name": "stdout",
     "output_type": "stream",
     "text": [
      "[[False False]\n",
      " [ True  True]\n",
      " [ True  True]]\n",
      "[3 4 5 6]\n",
      "[3 4 5 6]\n"
     ]
    }
   ],
   "source": [
    "a = np.array([\n",
    "    [1,2], \n",
    "    [3, 4], \n",
    "    [5, 6]\n",
    "])\n",
    "\n",
    "bool_idx = (a > 2)   # Find the elements of a that are bigger than 2;\n",
    "                     # this returns a numpy array of Booleans of the same\n",
    "                     # shape as a, where each slot of bool_idx tells\n",
    "                     # whether that element of a is > 2.\n",
    "\n",
    "print(bool_idx)      # Prints \"[[False False]\n",
    "                     #          [ True  True]\n",
    "                     #          [ True  True]]\"\n",
    "\n",
    "# We use boolean array indexing to construct a rank 1 array\n",
    "# consisting of the elements of a corresponding to the True values\n",
    "# of bool_idx\n",
    "print(a[bool_idx])   # Prints \"[3 4 5 6]\"\n",
    "\n",
    "# We can do all of the above in a single concise statement:\n",
    "print(a[a > 2])      # Prints \"[3 4 5 6]\""
   ]
  },
  {
   "cell_type": "markdown",
   "id": "4b3ebb75",
   "metadata": {},
   "source": [
    "### Changing the shape of an array"
   ]
  },
  {
   "cell_type": "code",
   "execution_count": 42,
   "id": "46565645",
   "metadata": {},
   "outputs": [
    {
     "name": "stdout",
     "output_type": "stream",
     "text": [
      "[[4. 1. 7. 2.]\n",
      " [3. 8. 3. 7.]\n",
      " [4. 0. 9. 5.]]\n",
      "[4. 1. 7. 2. 3. 8. 3. 7. 4. 0. 9. 5.]\n",
      "[[4. 1.]\n",
      " [7. 2.]\n",
      " [3. 8.]\n",
      " [3. 7.]\n",
      " [4. 0.]\n",
      " [9. 5.]]\n"
     ]
    }
   ],
   "source": [
    "a = np.floor(10 * np.random.random((3, 4)))\n",
    "print(a)\n",
    "\n",
    "print(a.ravel())      # prints the array, flattened\n",
    "print(a.reshape(6, 2))# prints the array with a modified shape"
   ]
  },
  {
   "cell_type": "markdown",
   "id": "16b429ea",
   "metadata": {},
   "source": [
    "### Stacking together different arrays"
   ]
  },
  {
   "cell_type": "code",
   "execution_count": 43,
   "id": "e835185c",
   "metadata": {},
   "outputs": [
    {
     "name": "stdout",
     "output_type": "stream",
     "text": [
      "[[4 4]\n",
      " [7 1]\n",
      " [1 4]\n",
      " [8 5]]\n",
      "[[4 4 1 4]\n",
      " [7 1 8 5]]\n"
     ]
    }
   ],
   "source": [
    "# Create two random integer array\n",
    "# elements are in range of 1 to 10\n",
    "a = np.random.randint(low=1, high=10, size=(2,2))\n",
    "b = np.random.randint(low=1, high=10, size=(2,2))\n",
    "\n",
    "c = np.vstack((a, b))       # Vertically stack a and b\n",
    "print(c)                    # Will print vertically stacked array\n",
    "\n",
    "d = np.hstack((a, b))       # Horizontally stack a and b\n",
    "print(d)                    # Will print horizontally stacked array"
   ]
  },
  {
   "cell_type": "code",
   "execution_count": 44,
   "id": "30b23633",
   "metadata": {},
   "outputs": [
    {
     "name": "stdout",
     "output_type": "stream",
     "text": [
      "[[6 1]\n",
      " [2 3]]\n",
      "[[8 1]\n",
      " [6 2]]\n",
      "[[6 1 8 1]\n",
      " [2 3 6 2]]\n",
      "[[ 4.  3.]\n",
      " [ 2.  8.]\n",
      " [ 5. 10.]]\n"
     ]
    }
   ],
   "source": [
    "# For 2D array\n",
    "a = np.random.randint(low=1, high=10, size=(2,2))\n",
    "b = np.random.randint(low=1, high=10, size=(2,2))\n",
    "print(a)\n",
    "print(b)\n",
    "# for any 2D array column stack will acts like hstack\n",
    "c = np.column_stack((a, b))\n",
    "print(c)                     # Will print horizontally stacked array\n",
    "\n",
    "# For 1D array its just converts rows to colum \n",
    "a = np.array([4., 2., 5.])\n",
    "b = np.array([3., 8., 10])\n",
    "\n",
    "c = np.column_stack((a, b))  # returns a 2D array\n",
    "print(c)                     # Prints [[4. 3.]\n",
    "                             #         [2. 8.]\n",
    "                             #         [5, 10]]"
   ]
  },
  {
   "cell_type": "code",
   "execution_count": 45,
   "id": "4a79119c",
   "metadata": {},
   "outputs": [
    {
     "name": "stdout",
     "output_type": "stream",
     "text": [
      "[[6 1 3]\n",
      " [7 4 2]\n",
      " [4 3 8]]\n",
      "[[18 13 17]\n",
      " [16 18 12]\n",
      " [11 14 10]]\n",
      "[[ 6  1  3]\n",
      " [ 7  4  2]\n",
      " [ 4  3  8]\n",
      " [18 13 17]\n",
      " [16 18 12]\n",
      " [11 14 10]]\n"
     ]
    }
   ],
   "source": [
    "## Row stack\n",
    "\n",
    "a = np.random.randint(low=1, high=9, size=(3,3))\n",
    "b = np.random.randint(low=10, high=19, size=(3,3))\n",
    "print(a)\n",
    "print(b)\n",
    "\n",
    "c = np.row_stack((a,b))\n",
    "print(c)"
   ]
  },
  {
   "cell_type": "code",
   "execution_count": 46,
   "id": "ea412b68",
   "metadata": {},
   "outputs": [
    {
     "name": "stdout",
     "output_type": "stream",
     "text": [
      "[[ 6  8]\n",
      " [10 12]]\n",
      "[[ 6  8]\n",
      " [10 12]]\n",
      "[[-4 -4]\n",
      " [-4 -4]]\n",
      "[[-4 -4]\n",
      " [-4 -4]]\n",
      "[[ 5 12]\n",
      " [21 32]]\n",
      "[[ 5 12]\n",
      " [21 32]]\n",
      "[[0.2        0.33333333]\n",
      " [0.42857143 0.5       ]]\n",
      "[[0.2        0.33333333]\n",
      " [0.42857143 0.5       ]]\n",
      "[[ 1  4]\n",
      " [ 9 16]]\n",
      "[[ 1  4]\n",
      " [ 9 16]]\n",
      "[[1.         1.41421356]\n",
      " [1.73205081 2.        ]]\n",
      "[[1.         1.41421356]\n",
      " [1.73205081 2.        ]]\n"
     ]
    }
   ],
   "source": [
    "x = np.array([[1,2],[3,4]])\n",
    "y = np.array([[5,6],[7,8]])\n",
    "\n",
    "# Elementwise sum\n",
    "print(x + y)            # Operator overloading\n",
    "print(np.add(x, y))     # Function in numpy module\n",
    "\n",
    "# Elementwise difference\n",
    "print(x - y)            # Operator overloading\n",
    "print(np.subtract(x, y))# Function in numpy module\n",
    "\n",
    "# Elementwise product\n",
    "print(x * y)            # Operator overloading\n",
    "print(np.multiply(x, y))# Function in numpy module\n",
    "\n",
    "# Elementwise division\n",
    "print(x / y)            # Operator overloading\n",
    "print(np.divide(x, y))  # Function in numpy module\n",
    "\n",
    "# Elementwise power\n",
    "print(x**2)             # Operator overloading\n",
    "print(np.power(x, 2))   # Function in numpy module\n",
    "\n",
    "# Elementwise square root\n",
    "print(x**(1/2.))        # Operator overloading\n",
    "print(np.sqrt(x))       # Function in numpy module"
   ]
  },
  {
   "cell_type": "code",
   "execution_count": 47,
   "id": "cd68cabd",
   "metadata": {},
   "outputs": [
    {
     "name": "stdout",
     "output_type": "stream",
     "text": [
      "[0 1 2 3 4]\n",
      "[ 1.          2.71828183  7.3890561  20.08553692 54.59815003]\n",
      "[ 0.          0.84147098  0.90929743  0.14112001 -0.7568025 ]\n",
      "[ 0.          1.55740772 -2.18503986 -0.14254654  1.15782128]\n"
     ]
    }
   ],
   "source": [
    "a = np.arange(5)\n",
    "print(a)\n",
    "\n",
    "print(np.exp(a))\n",
    "print(np.sin(a))\n",
    "print(np.tan(a))"
   ]
  },
  {
   "cell_type": "code",
   "execution_count": 48,
   "id": "5bbab1a5",
   "metadata": {},
   "outputs": [
    {
     "name": "stdout",
     "output_type": "stream",
     "text": [
      "[[1 0 4]\n",
      " [7 6 4]\n",
      " [3 2 5]]\n",
      "32\n",
      "0\n",
      "7\n"
     ]
    }
   ],
   "source": [
    "a = np.random.randint(10, size = (3,3))\n",
    "print(a)\n",
    "print(a.sum()) # sum of the whole array\n",
    "print(a.min()) # min value of the whole array\n",
    "print(a.max()) # max value of the whole array\n"
   ]
  },
  {
   "cell_type": "code",
   "execution_count": 51,
   "id": "989c8951",
   "metadata": {},
   "outputs": [
    {
     "name": "stdout",
     "output_type": "stream",
     "text": [
      "[15 18 21 24]\n",
      "[1 5 9]\n",
      "[[ 1  2  3  4]\n",
      " [ 6  8 10 12]\n",
      " [15 18 21 24]]\n"
     ]
    }
   ],
   "source": [
    "x = np.array([\n",
    "    [1,2,3,4],\n",
    "    [5,6,7,8],\n",
    "    [9,10,11,12]\n",
    "])\n",
    "# axis = 0 means column\n",
    "# axis = 1 means row\n",
    "print(x.sum(axis=0)) # sum of each colum \n",
    "print(x.min(axis=1)) # min values of each row\n",
    "print(x.cumsum(axis=0)) # cumulative sum of each column"
   ]
  },
  {
   "cell_type": "code",
   "execution_count": null,
   "id": "a40a6e79",
   "metadata": {},
   "outputs": [],
   "source": []
  }
 ],
 "metadata": {
  "kernelspec": {
   "display_name": "Python 3",
   "language": "python",
   "name": "python3"
  },
  "language_info": {
   "codemirror_mode": {
    "name": "ipython",
    "version": 3
   },
   "file_extension": ".py",
   "mimetype": "text/x-python",
   "name": "python",
   "nbconvert_exporter": "python",
   "pygments_lexer": "ipython3",
   "version": "3.11.9"
  }
 },
 "nbformat": 4,
 "nbformat_minor": 5
}
