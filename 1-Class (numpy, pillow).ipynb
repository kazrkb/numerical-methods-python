{
 "cells": [
  {
   "cell_type": "code",
   "execution_count": 2,
   "id": "dbebe61c",
   "metadata": {},
   "outputs": [],
   "source": [
    "import numpy as np\n",
    "from PIL import Image"
   ]
  },
  {
   "cell_type": "markdown",
   "id": "6db9aa81",
   "metadata": {},
   "source": [
    "### Numpy Array"
   ]
  },
  {
   "cell_type": "code",
   "execution_count": 3,
   "id": "a5bcb777",
   "metadata": {},
   "outputs": [
    {
     "name": "stdout",
     "output_type": "stream",
     "text": [
      "2\n",
      "[2 5 4]\n",
      "6\n",
      "[[ 2  3  4]\n",
      " [ 5 10  7]]\n",
      "6.12\n"
     ]
    }
   ],
   "source": [
    "a = np.array([2, 3, 4])   # Create array(1D) from python list\n",
    "print(a[0])               # Access elements using square brackets\n",
    "\n",
    "a[1] = 5\n",
    "print(a)\n",
    "\n",
    "b = np.array([\n",
    "    [2,3,4],\n",
    "    [5,6,7]\n",
    "])\n",
    "print(b[1,1])\n",
    "\n",
    "b[1,1] = 10\n",
    "print(b)\n",
    "\n",
    "c = np.array([\n",
    "    [1.5, 3.21, 5.79],\n",
    "    [6.12, 7.93, 10.5]\n",
    "])\n",
    "print(c[1,0])\n"
   ]
  },
  {
   "cell_type": "code",
   "execution_count": 4,
   "id": "f877be17",
   "metadata": {},
   "outputs": [
    {
     "name": "stdout",
     "output_type": "stream",
     "text": [
      "1\n",
      "2\n",
      "(3,)\n",
      "(2, 3)\n",
      "3\n",
      "6\n",
      "int32\n",
      "float64\n"
     ]
    }
   ],
   "source": [
    "print(a.ndim)             # Prints \"1\"\n",
    "print(b.ndim)             # Prints \"2\"\n",
    "\n",
    "print(a.shape)            # Prints \"(3,)\"\n",
    "print(b.shape)            # Prints \"(2, 3)\"\n",
    "\n",
    "print(a.size)             # Prints \"3\"\n",
    "print(b.size)             # Prints \"6\"\n",
    "\n",
    "print(a.dtype)            # Prints \"int32\"\n",
    "print(c.dtype)            # Prints \"float64\""
   ]
  },
  {
   "cell_type": "code",
   "execution_count": 5,
   "id": "1ad8fb3f",
   "metadata": {},
   "outputs": [
    {
     "name": "stdout",
     "output_type": "stream",
     "text": [
      "[[0. 0. 0.]\n",
      " [0. 0. 0.]\n",
      " [0. 0. 0.]]\n",
      "[[1. 1.]\n",
      " [1. 1.]\n",
      " [1. 1.]]\n",
      "[[8 8 8]\n",
      " [8 8 8]\n",
      " [8 8 8]]\n",
      "[[1. 0. 0.]\n",
      " [0. 1. 0.]\n",
      " [0. 0. 1.]]\n",
      "[[0.73256402 0.96423335 0.51098723]\n",
      " [0.39837954 0.64684801 0.85836944]\n",
      " [0.5949214  0.38283642 0.28747562]]\n",
      "[0 1 2 3 4]\n",
      "[ 6.    7.25  8.5   9.75 11.  ]\n"
     ]
    }
   ],
   "source": [
    "a = np.zeros((3,3))\n",
    "print(a)\n",
    "\n",
    "b = np.ones((3,2))\n",
    "print(b)\n",
    "\n",
    "c = np.full((3,3),8)\n",
    "print(c)\n",
    "\n",
    "d = np.eye(3)\n",
    "print(d)\n",
    "\n",
    "e = np.random.random((3,3))\n",
    "print(e)\n",
    "\n",
    "f = np.arange(5)\n",
    "print(f)\n",
    "\n",
    "g = np.linspace(6,11,5)\n",
    "print(g)"
   ]
  },
  {
   "cell_type": "code",
   "execution_count": 6,
   "id": "a6081ff3",
   "metadata": {},
   "outputs": [
    {
     "name": "stdout",
     "output_type": "stream",
     "text": [
      "[  0   1   8  27  64 125 216 343 512 729]\n",
      "8\n",
      "[ 8 27 64]\n",
      "[  0   1   8  27  64 125]\n",
      "[  8  27  64 125 216 343 512 729]\n",
      "[729 512 343 216 125  64  27   8   1   0]\n",
      "[1000    1 1000   27 1000  125  216  343  512  729]\n",
      "9.999999999999998\n",
      "1.0\n",
      "9.999999999999998\n",
      "3.0\n",
      "9.999999999999998\n",
      "4.999999999999999\n",
      "5.999999999999999\n",
      "6.999999999999999\n",
      "7.999999999999999\n",
      "8.999999999999998\n"
     ]
    }
   ],
   "source": [
    "a = np.arange(10)**3     # In python \"**\" means power x**3 = x^3\n",
    "print(a)                 # Prints \"[0 1 8 27 64 125 216 343 512 729]\"\n",
    "\n",
    "print(a[2])              # Prints \"8\"\n",
    "print(a[2:5])            # Prints \"[8 27 64]\"\n",
    "print(a[:6])             # Prints \"[0 1 8 27 64 125]\"\n",
    "print(a[2:])             # Prints \"[8 27 64 125 216 343 512 729]\"\n",
    "print(a[::-1])           # Prints reversed array\n",
    "\n",
    "a[:6:2] = 1000           # From start to position 6 (exclusive) set every 2nd element to 1000\n",
    "print(a)                 # Prints \"[1000 1 1000 27 1000 125 216 343 512 729]\"\n",
    "\n",
    "# Iterating over array\n",
    "for element in a:\n",
    "  print(element**(1/3.))"
   ]
  },
  {
   "cell_type": "code",
   "execution_count": null,
   "id": "a2802a4f",
   "metadata": {},
   "outputs": [],
   "source": []
  }
 ],
 "metadata": {
  "kernelspec": {
   "display_name": "Python 3",
   "language": "python",
   "name": "python3"
  },
  "language_info": {
   "codemirror_mode": {
    "name": "ipython",
    "version": 3
   },
   "file_extension": ".py",
   "mimetype": "text/x-python",
   "name": "python",
   "nbconvert_exporter": "python",
   "pygments_lexer": "ipython3",
   "version": "3.11.9"
  }
 },
 "nbformat": 4,
 "nbformat_minor": 5
}
