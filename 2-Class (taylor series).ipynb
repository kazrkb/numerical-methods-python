{
 "cells": [
  {
   "cell_type": "markdown",
   "id": "6e292493",
   "metadata": {},
   "source": [
    "In this lab, we will explore the Taylor series expansion of a function.  We will use the Taylor series expansion to approximate the value of a function at a point. Also, we will visualize how the order of the Taylor series expansion affects the accuracy of the approximation.\n",
    "\n",
    "#### **Taylor Series Expansion of a Function**\n",
    "The Taylor series expansion of is a representation of the function by an infinite series of polynomials centered at the point.  The Taylor series expansion of a function $f(x)$ is given by\n",
    "\n",
    "$$f(x) = \\sum_{n=0}^{\\infty} \\frac{f^{(n)}(a)}{n!}(x-a)^n$$\n",
    "\n",
    "where $f^{(n)}(a)$ is the $n$ th derivative of $f(x)$ evaluated at $a$.\n",
    "\n",
    "##### **Example**\n",
    "Consider the function $f(x) = e^x$ and the point $a = 0$.  The Taylor series expansion of $f(x)$ centered at $a$ is given by\n",
    "\n",
    "$$\n",
    "\\begin{align*}\n",
    "  f(x) &= \\frac{f^{(0)}(a)(x-a)^0}{0!} + \\frac{f^{(1)}(a)(x-a)^1}{1!} + \\frac{f^{(2)}(a)(x-a)^2}{2!} + \\frac{f^{(3)}(a)(x-a)^3}{3!} + \\cdots \\\\\n",
    "  &= \\frac{f^{(0)}(0)(x-0)^0}{0!} + \\frac{f^{(1)}(0)(x-0)^1}{1!} + \\frac{f^{(2)}(0)(x-0)^2}{2!} + \\frac{f^{(3)}(0)(x-0)^3}{3!} + \\cdots \\\\\n",
    "  &= \\frac{1}{0!} + \\frac{x}{1!} + \\frac{x^2}{2!} + \\frac{x^3}{3!} + \\cdots \\\\\n",
    "  &= 1 + x + \\frac{x^2}{2} + \\frac{x^3}{6} + \\cdots\n",
    "\\end{align*}\n",
    "$$\n",
    "\n",
    "The final expression is an infinite series of polynomials.  The first term is the constant term, the second term is the linear term, the third term is the quadratic term, the fourth term is the cubic term, and so on.  The more terms we include in the series, the more accurate the approximation of the function becomes. We will explore this in the next section."
   ]
  },
  {
   "cell_type": "markdown",
   "id": "aac0f552",
   "metadata": {},
   "source": [
    "#### **Approximation using Taylor Series**\n",
    "We can approximate the value of a function at a point by using the Taylor series expansion of the function. We have already seen an example of how to expand a function using the Taylor series expansion.  In this section, we will use the Taylor series expansion to approximate the value of a function at a point.\n",
    "\n",
    "But, the Taylor series expansion is an infinite series and we oviously cannot compute the value of an infinite series. So, we will use the first few terms of the Taylor series expansion to approximate the value of the function at a point. The number of terms we use in the Taylor series expansion is related to the order of the Taylor series expansion.  The order of the Taylor series expansion is one less than the number of terms in the Taylor series expansion.  For example, if we use the first three terms of the Taylor series expansion, the order of the Taylor series expansion is 2.  If we use the first four terms of the Taylor series expansion, the order of the Taylor series expansion is 3.  And so on.\n",
    "\n",
    "Now, we will try to approximate the function $f(x) = e^{-x}$ at the point $a = 0$ and observe the effect of the order of the Taylor series expansion on the accuracy of the approximation. Follow the steps below to complete the task."
   ]
  },
  {
   "cell_type": "code",
   "execution_count": 3,
   "id": "0ff1fa97",
   "metadata": {},
   "outputs": [],
   "source": [
    "import numpy as np\n",
    "import matplotlib.pyplot as plt"
   ]
  },
  {
   "cell_type": "markdown",
   "id": "5eda0d70",
   "metadata": {},
   "source": [
    "##### **Step 02: Define the function and its derivatives**\n",
    "Write a function that takes $x$ as an argument and returns the value of $f(x)$.  Also, write the following functions that return the value of the first, second, third, and fourth derivatives of $f(x)$.\n",
    "\n",
    ">1. `f1(x)`: returns the value of the first derivative of $f(x)$\n",
    ">2. `f2(x)`: returns the value of the second derivative of $f(x)$\n",
    ">3. `f3(x)`: returns the value of the third derivative of $f(x)$\n",
    ">4. `f4(x)`: returns the value of the fourth derivative of $f(x)$"
   ]
  },
  {
   "cell_type": "code",
   "execution_count": 4,
   "id": "35fcd29f",
   "metadata": {},
   "outputs": [],
   "source": [
    "def f(x):\n",
    "    return np.exp(-x)\n",
    "def f1(x):\n",
    "    return -np.exp(-x)\n",
    "def f2(x):\n",
    "    return np.exp(-x)\n",
    "def f3(x):\n",
    "    return -np.exp(-x)\n",
    "def f4(x):\n",
    "    return np.exp(-x)"
   ]
  },
  {
   "cell_type": "markdown",
   "id": "33af738f",
   "metadata": {},
   "source": [
    "##### **Step 03: Generalize the derivative functions**\n",
    "The functions `f1(x)`, `f2(x)`, `f3(x)`, and `f4(x)` that you wrote in the previous step are specific to the function $f(x) = e^{-x}$.  Now, write a generalized function that takes the order of the derivative as an argument and returns the value of the derivative of $f(x)$.\n",
    "\n",
    "> `fn(x, n)`: returns the value of the $n$ th derivative of $f(x)$"
   ]
  },
  {
   "cell_type": "code",
   "execution_count": 5,
   "id": "a0d113ad",
   "metadata": {},
   "outputs": [],
   "source": [
    "def fn(x, n):\n",
    "    return (-1)**n * np.exp(-x)"
   ]
  },
  {
   "cell_type": "markdown",
   "id": "f2fa0584",
   "metadata": {},
   "source": [
    "##### **Step 04: Define the Taylor series expansion function**\n",
    "Write a function that takes $x$, $a$, and $n$ as arguments and returns the value of the Taylor series expansion of $f(x)$ at $a$ with order $n$.\n",
    "\n",
    "> `taylor(x, a, n)`: returns the value of the Taylor series expansion of $f(x)$ at $a$ using the first $n$ terms of the Taylor series expansion"
   ]
  },
  {
   "cell_type": "code",
   "execution_count": 6,
   "id": "a6a2ae07",
   "metadata": {},
   "outputs": [],
   "source": [
    "def taylor(x,a,n):\n",
    "    sum = 0\n",
    "    for i in range(n+1):\n",
    "        sum+=fn(a,i) * (x-a)**i / np.math.factorial(i)\n",
    "    return sum"
   ]
  },
  {
   "cell_type": "code",
   "execution_count": null,
   "id": "c1a1f0b0",
   "metadata": {},
   "outputs": [],
   "source": []
  }
 ],
 "metadata": {
  "kernelspec": {
   "display_name": "Python 3",
   "language": "python",
   "name": "python3"
  },
  "language_info": {
   "codemirror_mode": {
    "name": "ipython",
    "version": 3
   },
   "file_extension": ".py",
   "mimetype": "text/x-python",
   "name": "python",
   "nbconvert_exporter": "python",
   "pygments_lexer": "ipython3",
   "version": "3.11.9"
  }
 },
 "nbformat": 4,
 "nbformat_minor": 5
}
