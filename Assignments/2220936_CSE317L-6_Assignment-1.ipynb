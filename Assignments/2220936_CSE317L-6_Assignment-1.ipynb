{
 "cells": [
  {
   "cell_type": "markdown",
   "id": "ecc2cb79",
   "metadata": {},
   "source": [
    "#### **Homework 01:**\n",
    "Generate random matrix of size 10 x 5. Then, solve the following problems:"
   ]
  },
  {
   "cell_type": "code",
   "execution_count": 1,
   "id": "db01d85a",
   "metadata": {},
   "outputs": [],
   "source": [
    "import numpy as np"
   ]
  },
  {
   "cell_type": "code",
   "execution_count": 3,
   "id": "34c613a4",
   "metadata": {},
   "outputs": [
    {
     "name": "stdout",
     "output_type": "stream",
     "text": [
      "10 x 5 random Matrix: \n",
      " [[5 6 6 1 7]\n",
      " [5 3 5 7 6]\n",
      " [7 7 5 3 7]\n",
      " [8 5 3 2 2]\n",
      " [9 7 9 1 3]\n",
      " [8 6 5 8 7]\n",
      " [2 8 1 7 4]\n",
      " [2 9 4 6 1]\n",
      " [7 7 1 8 3]\n",
      " [7 6 6 9 6]]\n"
     ]
    }
   ],
   "source": [
    "m = np.random.randint(low=1, high=10, size=(10,5))\n",
    "print(\"10 x 5 random Matrix: \\n\", m)"
   ]
  },
  {
   "cell_type": "code",
   "execution_count": null,
   "id": "f05e74fd",
   "metadata": {},
   "outputs": [],
   "source": []
  }
 ],
 "metadata": {
  "kernelspec": {
   "display_name": "Python 3",
   "language": "python",
   "name": "python3"
  },
  "language_info": {
   "codemirror_mode": {
    "name": "ipython",
    "version": 3
   },
   "file_extension": ".py",
   "mimetype": "text/x-python",
   "name": "python",
   "nbconvert_exporter": "python",
   "pygments_lexer": "ipython3",
   "version": "3.11.9"
  }
 },
 "nbformat": 4,
 "nbformat_minor": 5
}
