{
 "cells": [
  {
   "cell_type": "markdown",
   "id": "ecc2cb79",
   "metadata": {},
   "source": [
    "#### **Homework 01:**\n",
    "Generate random matrix of size 10 x 5. Then, solve the following problems:"
   ]
  },
  {
   "cell_type": "code",
   "execution_count": 1,
   "id": "db01d85a",
   "metadata": {},
   "outputs": [],
   "source": [
    "import numpy as np"
   ]
  },
  {
   "cell_type": "code",
   "execution_count": 3,
   "id": "34c613a4",
   "metadata": {},
   "outputs": [
    {
     "name": "stdout",
     "output_type": "stream",
     "text": [
      "10 x 5 random Matrix: \n",
      " [[5 6 6 1 7]\n",
      " [5 3 5 7 6]\n",
      " [7 7 5 3 7]\n",
      " [8 5 3 2 2]\n",
      " [9 7 9 1 3]\n",
      " [8 6 5 8 7]\n",
      " [2 8 1 7 4]\n",
      " [2 9 4 6 1]\n",
      " [7 7 1 8 3]\n",
      " [7 6 6 9 6]]\n"
     ]
    }
   ],
   "source": [
    "m = np.random.randint(low=1, high=10, size=(10,5))\n",
    "print(\"10 x 5 random Matrix: \\n\", m)"
   ]
  },
  {
   "cell_type": "markdown",
   "id": "f04471d9",
   "metadata": {},
   "source": [
    "##### **Problem 01:**\n",
    "Calculate the sum and mean of the 2nd row of the matrix."
   ]
  },
  {
   "cell_type": "code",
   "execution_count": 4,
   "id": "f05e74fd",
   "metadata": {},
   "outputs": [
    {
     "name": "stdout",
     "output_type": "stream",
     "text": [
      "Sum the 2nd row of the matrix :  26\n",
      "The mean of the 2nd row of the matrix: 5.2\n"
     ]
    }
   ],
   "source": [
    "sum = m[1].sum()\n",
    "print(\"Sum the 2nd row of the matrix : \", sum)\n",
    "mean = sum / len(m[1])\n",
    "print(\"The mean of the 2nd row of the matrix:\", mean)"
   ]
  },
  {
   "cell_type": "markdown",
   "id": "3d5b5da5",
   "metadata": {},
   "source": [
    "## Problem - 3\n"
   ]
  },
  {
   "cell_type": "markdown",
   "id": "4568fb53",
   "metadata": {},
   "source": []
  }
 ],
 "metadata": {
  "kernelspec": {
   "display_name": "Python 3",
   "language": "python",
   "name": "python3"
  },
  "language_info": {
   "codemirror_mode": {
    "name": "ipython",
    "version": 3
   },
   "file_extension": ".py",
   "mimetype": "text/x-python",
   "name": "python",
   "nbconvert_exporter": "python",
   "pygments_lexer": "ipython3",
   "version": "3.11.9"
  }
 },
 "nbformat": 4,
 "nbformat_minor": 5
}
